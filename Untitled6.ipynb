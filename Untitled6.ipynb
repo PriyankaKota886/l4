{
  "nbformat": 4,
  "nbformat_minor": 0,
  "metadata": {
    "colab": {
      "provenance": [],
      "authorship_tag": "ABX9TyO78asvnDvdzQFnd668jv0d",
      "include_colab_link": true
    },
    "kernelspec": {
      "name": "python3",
      "display_name": "Python 3"
    },
    "language_info": {
      "name": "python"
    }
  },
  "cells": [
    {
      "cell_type": "markdown",
      "metadata": {
        "id": "view-in-github",
        "colab_type": "text"
      },
      "source": [
        "<a href=\"https://colab.research.google.com/github/PriyankaKota886/l4/blob/main/Untitled6.ipynb\" target=\"_parent\"><img src=\"https://colab.research.google.com/assets/colab-badge.svg\" alt=\"Open In Colab\"/></a>"
      ]
    },
    {
      "cell_type": "code",
      "execution_count": null,
      "metadata": {
        "id": "1uMxyUYHPXL5"
      },
      "outputs": [],
      "source": [
        "My Jupyter Notebook on IBM Watson Studio\n",
        "\n",
        "KOTA PRIYANKA\n",
        "Data Scientist\n",
        "\n",
        "I am interested in data science because data i want to become a datascietist under the industry of Real Estate ,I want to be able help clients to make make best real Estate investments , having huge command of Data science it will personally help me to make good business decisions."
      ]
    },
    {
      "cell_type": "code",
      "source": [
        "import datetime \n",
        "message = \"Today's Date and Time is \" \n",
        "print (message , datetime.datetime.now() )"
      ],
      "metadata": {
        "colab": {
          "base_uri": "https://localhost:8080/"
        },
        "id": "NvPVi84vPlxS",
        "outputId": "df09fef2-73b8-417f-8eb0-f254336732d4"
      },
      "execution_count": 1,
      "outputs": [
        {
          "output_type": "stream",
          "name": "stdout",
          "text": [
            "Today's Date and Time is  2023-02-09 17:35:24.703321\n"
          ]
        }
      ]
    },
    {
      "cell_type": "markdown",
      "source": [
        "My favourite Fruits\n",
        "1.Apple\n",
        "2.Banana\n",
        "3.Orange\n",
        "4.Mango\n",
        "5.Grapes"
      ],
      "metadata": {
        "id": "t_bn4MwDPxRf"
      }
    }
  ]
}